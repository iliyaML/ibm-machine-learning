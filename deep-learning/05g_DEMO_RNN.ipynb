{
 "cells": [
  {
   "cell_type": "markdown",
   "metadata": {
    "run_control": {
     "marked": true
    }
   },
   "source": [
    "# Machine Learning Foundation\n",
    "\n",
    "## Course 5, Part g: RNN DEMO"
   ]
  },
  {
   "cell_type": "markdown",
   "metadata": {},
   "source": [
    "## Using RNNs to classify sentiment on IMDB data\n",
    "For this exercise, we will train a \"vanilla\" RNN to predict the sentiment on IMDB reviews.  Our data consists of 25000 training sequences and 25000 test sequences.  The outcome is binary (positive/negative) and both outcomes are equally represented in both the training and the test set.\n",
    "\n",
    "Keras provides a convenient interface to load the data and immediately encode the words into integers (based on the most common words).  This will save us a lot of the drudgery that is usually involved when working with raw text.\n",
    "\n",
    "We will walk through the preparation of the data and the building of an RNN model.  Then it will be your turn to build your own models (and prepare the data how you see fit)."
   ]
  },
  {
   "cell_type": "code",
   "execution_count": 9,
   "metadata": {},
   "outputs": [],
   "source": [
    "#from tensorflow import keras\n",
    "#from tensorflow.keras.preprocessing import sequence\n",
    "#from tensorflow.keras.models import Sequential\n",
    "#from tensorflow.keras.layers import Dense, Embedding\n",
    "#from tensorflow.keras.layers import SimpleRNN\n",
    "#from tensorflow.keras.datasets import imdb\n",
    "#from tensorflow.keras import initializers\n",
    "import keras\n",
    "from keras.utils import pad_sequences\n",
    "from keras.models import Sequential\n",
    "from keras.layers import Dense, Embedding\n",
    "from keras.layers import SimpleRNN\n",
    "from keras.datasets import imdb\n",
    "from keras import initializers"
   ]
  },
  {
   "cell_type": "code",
   "execution_count": 10,
   "metadata": {},
   "outputs": [],
   "source": [
    "max_features = 20000  # This is used in loading the data, picks the most common (max_features) words\n",
    "maxlen = 30  # maximum length of a sequence - truncate after this\n",
    "batch_size = 32"
   ]
  },
  {
   "cell_type": "code",
   "execution_count": 11,
   "metadata": {},
   "outputs": [
    {
     "name": "stdout",
     "output_type": "stream",
     "text": [
      "25000 train sequences\n",
      "25000 test sequences\n"
     ]
    }
   ],
   "source": [
    "## Load in the data.  The function automatically tokenizes the text into distinct integers\n",
    "(x_train, y_train), (x_test, y_test) = imdb.load_data(num_words=max_features)\n",
    "print(len(x_train), 'train sequences')\n",
    "print(len(x_test), 'test sequences')"
   ]
  },
  {
   "cell_type": "code",
   "execution_count": 12,
   "metadata": {},
   "outputs": [
    {
     "name": "stdout",
     "output_type": "stream",
     "text": [
      "x_train shape: (25000, 30)\n",
      "x_test shape: (25000, 30)\n"
     ]
    }
   ],
   "source": [
    "# This pads (or truncates) the sequences so that they are of the maximum length\n",
    "x_train = pad_sequences(x_train, maxlen=maxlen)\n",
    "x_test = pad_sequences(x_test, maxlen=maxlen)\n",
    "print('x_train shape:', x_train.shape)\n",
    "print('x_test shape:', x_test.shape)"
   ]
  },
  {
   "cell_type": "code",
   "execution_count": 13,
   "metadata": {},
   "outputs": [
    {
     "data": {
      "text/plain": [
       "array([  219,   141,    35,   221,   956,    54,    13,    16,    11,\n",
       "        2714,    61,   322,   423,    12,    38,    76,    59,  1803,\n",
       "          72,     8, 10508,    23,     5,   967,    12,    38,    85,\n",
       "          62,   358,    99])"
      ]
     },
     "execution_count": 13,
     "metadata": {},
     "output_type": "execute_result"
    }
   ],
   "source": [
    "x_train[123,:]  #Here's what an example sequence looks like"
   ]
  },
  {
   "cell_type": "markdown",
   "metadata": {},
   "source": [
    "## Keras layers for (Vanilla) RNNs\n",
    "\n",
    "In this exercise, we will not use pre-trained word vectors.  Rather we will learn an embedding as part of the Neural Network.  This is represented by the Embedding Layer below.\n",
    "\n",
    "### Embedding Layer\n",
    "`keras.layers.embeddings.Embedding(input_dim, output_dim, embeddings_initializer='uniform', embeddings_regularizer=None, activity_regularizer=None, embeddings_constraint=None, mask_zero=False, input_length=None)`\n",
    "\n",
    "- This layer maps each integer into a distinct (dense) word vector of length `output_dim`.\n",
    "- Can think of this as learning a word vector embedding \"on the fly\" rather than using an existing mapping (like GloVe)\n",
    "- The `input_dim` should be the size of the vocabulary.\n",
    "- The `input_length` specifies the length of the sequences that the network expects.\n",
    "\n",
    "### SimpleRNN Layer\n",
    "`keras.layers.recurrent.SimpleRNN(units, activation='tanh', use_bias=True, kernel_initializer='glorot_uniform', recurrent_initializer='orthogonal', bias_initializer='zeros', kernel_regularizer=None, recurrent_regularizer=None, bias_regularizer=None, activity_regularizer=None, kernel_constraint=None, recurrent_constraint=None, bias_constraint=None, dropout=0.0, recurrent_dropout=0.0)`\n",
    "\n",
    "- This is the basic RNN, where the output is also fed back as the \"hidden state\" to the next iteration.\n",
    "- The parameter `units` gives the dimensionality of the output (and therefore the hidden state).  Note that typically there will be another layer after the RNN mapping the (RNN) output to the network output.  So we should think of this value as the desired dimensionality of the hidden state and not necessarily the desired output of the network.\n",
    "- Recall that there are two sets of weights, one for the \"recurrent\" phase and the other for the \"kernel\" phase.  These can be configured separately in terms of their initialization, regularization, etc.\n",
    "\n",
    "\n",
    "\n",
    "\n"
   ]
  },
  {
   "cell_type": "code",
   "execution_count": 14,
   "metadata": {},
   "outputs": [],
   "source": [
    "## Let's build a RNN\n",
    "\n",
    "rnn_hidden_dim = 5\n",
    "word_embedding_dim = 50\n",
    "model_rnn = Sequential()\n",
    "model_rnn.add(Embedding(max_features, word_embedding_dim))  #This layer takes each integer in the sequence and embeds it in a 50-dimensional vector\n",
    "model_rnn.add(SimpleRNN(rnn_hidden_dim,\n",
    "                    kernel_initializer=initializers.RandomNormal(stddev=0.001),\n",
    "                    recurrent_initializer=initializers.Identity(gain=1.0),\n",
    "                    activation='relu',\n",
    "                    input_shape=x_train.shape[1:]))\n",
    "\n",
    "model_rnn.add(Dense(1, activation='sigmoid'))"
   ]
  },
  {
   "cell_type": "code",
   "execution_count": 15,
   "metadata": {},
   "outputs": [
    {
     "name": "stdout",
     "output_type": "stream",
     "text": [
      "Model: \"sequential\"\n",
      "_________________________________________________________________\n",
      " Layer (type)                Output Shape              Param #   \n",
      "=================================================================\n",
      " embedding (Embedding)       (None, None, 50)          1000000   \n",
      "                                                                 \n",
      " simple_rnn (SimpleRNN)      (None, 5)                 280       \n",
      "                                                                 \n",
      " dense (Dense)               (None, 1)                 6         \n",
      "                                                                 \n",
      "=================================================================\n",
      "Total params: 1,000,286\n",
      "Trainable params: 1,000,286\n",
      "Non-trainable params: 0\n",
      "_________________________________________________________________\n"
     ]
    }
   ],
   "source": [
    "## Note that most of the parameters come from the embedding layer\n",
    "model_rnn.summary()"
   ]
  },
  {
   "cell_type": "code",
   "execution_count": 16,
   "metadata": {},
   "outputs": [
    {
     "name": "stderr",
     "output_type": "stream",
     "text": [
      "c:\\Users\\iliya\\Downloads\\course-1\\venv\\lib\\site-packages\\keras\\optimizers\\optimizer_v2\\rmsprop.py:135: UserWarning: The `lr` argument is deprecated, use `learning_rate` instead.\n",
      "  super(RMSprop, self).__init__(name, **kwargs)\n"
     ]
    }
   ],
   "source": [
    "rmsprop = keras.optimizers.RMSprop(lr = .0001)\n",
    "\n",
    "model_rnn.compile(loss='binary_crossentropy',\n",
    "              optimizer=rmsprop,\n",
    "              metrics=['accuracy'])"
   ]
  },
  {
   "cell_type": "code",
   "execution_count": 17,
   "metadata": {},
   "outputs": [
    {
     "name": "stdout",
     "output_type": "stream",
     "text": [
      "Epoch 1/10\n",
      "782/782 [==============================] - 17s 18ms/step - loss: 0.6674 - accuracy: 0.6176 - val_loss: 0.6156 - val_accuracy: 0.6732\n",
      "Epoch 2/10\n",
      "782/782 [==============================] - 14s 18ms/step - loss: 0.5710 - accuracy: 0.7062 - val_loss: 0.5595 - val_accuracy: 0.7075\n",
      "Epoch 3/10\n",
      "782/782 [==============================] - 15s 19ms/step - loss: 0.5146 - accuracy: 0.7478 - val_loss: 0.5274 - val_accuracy: 0.7332\n",
      "Epoch 4/10\n",
      "782/782 [==============================] - 13s 17ms/step - loss: 0.4758 - accuracy: 0.7750 - val_loss: 0.5071 - val_accuracy: 0.7442\n",
      "Epoch 5/10\n",
      "782/782 [==============================] - 13s 17ms/step - loss: 0.4464 - accuracy: 0.7936 - val_loss: 0.4883 - val_accuracy: 0.7579\n",
      "Epoch 6/10\n",
      "782/782 [==============================] - 13s 17ms/step - loss: 0.4239 - accuracy: 0.8073 - val_loss: 0.4755 - val_accuracy: 0.7664\n",
      "Epoch 7/10\n",
      "782/782 [==============================] - 15s 19ms/step - loss: 0.4062 - accuracy: 0.8162 - val_loss: 0.4666 - val_accuracy: 0.7724\n",
      "Epoch 8/10\n",
      "782/782 [==============================] - 17s 22ms/step - loss: 0.3917 - accuracy: 0.8255 - val_loss: 0.4600 - val_accuracy: 0.7782\n",
      "Epoch 9/10\n",
      "782/782 [==============================] - 17s 22ms/step - loss: 0.3809 - accuracy: 0.8304 - val_loss: 0.4596 - val_accuracy: 0.7811\n",
      "Epoch 10/10\n",
      "782/782 [==============================] - 17s 22ms/step - loss: 0.3721 - accuracy: 0.8354 - val_loss: 0.4563 - val_accuracy: 0.7838\n"
     ]
    },
    {
     "data": {
      "text/plain": [
       "<keras.callbacks.History at 0x2936a3e32b0>"
      ]
     },
     "execution_count": 17,
     "metadata": {},
     "output_type": "execute_result"
    }
   ],
   "source": [
    "model_rnn.fit(x_train, y_train,\n",
    "          batch_size=batch_size,\n",
    "          epochs=10,\n",
    "          validation_data=(x_test, y_test))"
   ]
  },
  {
   "cell_type": "code",
   "execution_count": 18,
   "metadata": {},
   "outputs": [
    {
     "name": "stdout",
     "output_type": "stream",
     "text": [
      "782/782 [==============================] - 5s 7ms/step - loss: 0.4563 - accuracy: 0.7838\n",
      "Test score: 0.456304132938385\n",
      "Test accuracy: 0.783840000629425\n"
     ]
    }
   ],
   "source": [
    "score, acc = model_rnn.evaluate(x_test, y_test,\n",
    "                            batch_size=batch_size)\n",
    "print('Test score:', score)\n",
    "print('Test accuracy:', acc)"
   ]
  },
  {
   "cell_type": "markdown",
   "metadata": {},
   "source": [
    "## Exercise\n",
    "\n",
    "In this exercise, we will illustrate:\n",
    "- Preparing the data to use sequences of length 80 rather than length 30.  Does it improve the performance?\n",
    "- Trying different values of the \"max_features\".  Does this  improve the performance?\n",
    "- Trying smaller and larger sizes of the RNN hidden dimension.  How does it affect the model performance?  How does it affect the run time?"
   ]
  },
  {
   "cell_type": "code",
   "execution_count": 19,
   "metadata": {},
   "outputs": [],
   "source": [
    "max_features = 20000  # This is used in loading the data, picks the most common (max_features) words\n",
    "maxlen = 80  # maximum length of a sequence - truncate after this\n",
    "\n",
    "(x_train, y_train), (x_test, y_test) = imdb.load_data(num_words=max_features)\n",
    "\n",
    "x_train = pad_sequences(x_train, maxlen=maxlen)\n",
    "x_test = pad_sequences(x_test, maxlen=maxlen)"
   ]
  },
  {
   "cell_type": "code",
   "execution_count": 20,
   "metadata": {},
   "outputs": [],
   "source": [
    "rnn_hidden_dim = 5\n",
    "word_embedding_dim = 50\n",
    "model_rnn = Sequential()\n",
    "model_rnn.add(Embedding(max_features, word_embedding_dim))  #This layer takes each integer in the sequence\n",
    "model_rnn.add(SimpleRNN(rnn_hidden_dim,\n",
    "                    kernel_initializer=initializers.RandomNormal(stddev=0.001),\n",
    "                    recurrent_initializer=initializers.Identity(gain=1.0),\n",
    "                    activation='relu',\n",
    "                    input_shape=x_train.shape[1:]))\n",
    "\n",
    "model_rnn.add(Dense(1, activation='sigmoid'))"
   ]
  },
  {
   "cell_type": "code",
   "execution_count": 21,
   "metadata": {},
   "outputs": [],
   "source": [
    "rmsprop = keras.optimizers.RMSprop(lr = .0001)\n",
    "\n",
    "model_rnn.compile(loss='binary_crossentropy',\n",
    "              optimizer=rmsprop,\n",
    "              metrics=['accuracy'])"
   ]
  },
  {
   "cell_type": "code",
   "execution_count": 22,
   "metadata": {},
   "outputs": [
    {
     "name": "stdout",
     "output_type": "stream",
     "text": [
      "Epoch 1/10\n",
      "782/782 [==============================] - 31s 37ms/step - loss: 0.6086 - accuracy: 0.6664 - val_loss: 0.5212 - val_accuracy: 0.7472\n",
      "Epoch 2/10\n",
      "782/782 [==============================] - 24s 31ms/step - loss: 0.4626 - accuracy: 0.7834 - val_loss: 0.4704 - val_accuracy: 0.7688\n",
      "Epoch 3/10\n",
      "782/782 [==============================] - 30s 38ms/step - loss: 0.4016 - accuracy: 0.8222 - val_loss: 0.4531 - val_accuracy: 0.7894\n",
      "Epoch 4/10\n",
      "782/782 [==============================] - 41s 52ms/step - loss: 0.3603 - accuracy: 0.8432 - val_loss: 0.4082 - val_accuracy: 0.8122\n",
      "Epoch 5/10\n",
      "782/782 [==============================] - 62s 80ms/step - loss: 0.3305 - accuracy: 0.8579 - val_loss: 0.3941 - val_accuracy: 0.8192\n",
      "Epoch 6/10\n",
      "782/782 [==============================] - 61s 78ms/step - loss: 0.3076 - accuracy: 0.8700 - val_loss: 0.4007 - val_accuracy: 0.8179\n",
      "Epoch 7/10\n",
      "782/782 [==============================] - 52s 67ms/step - loss: 0.2901 - accuracy: 0.8797 - val_loss: 0.3739 - val_accuracy: 0.8336\n",
      "Epoch 8/10\n",
      "782/782 [==============================] - 49s 63ms/step - loss: 0.2768 - accuracy: 0.8860 - val_loss: 0.3665 - val_accuracy: 0.8371\n",
      "Epoch 9/10\n",
      "782/782 [==============================] - 40s 51ms/step - loss: 0.2657 - accuracy: 0.8914 - val_loss: 0.3652 - val_accuracy: 0.8387\n",
      "Epoch 10/10\n",
      "782/782 [==============================] - 39s 49ms/step - loss: 0.2562 - accuracy: 0.8940 - val_loss: 0.3620 - val_accuracy: 0.8404\n"
     ]
    },
    {
     "data": {
      "text/plain": [
       "<keras.callbacks.History at 0x293579cceb0>"
      ]
     },
     "execution_count": 22,
     "metadata": {},
     "output_type": "execute_result"
    }
   ],
   "source": [
    "model_rnn.fit(x_train, y_train,\n",
    "          batch_size=batch_size,\n",
    "          epochs=10,\n",
    "          validation_data=(x_test, y_test))"
   ]
  },
  {
   "cell_type": "code",
   "execution_count": 23,
   "metadata": {},
   "outputs": [],
   "source": [
    "max_features = 5000  # This is used in loading the data, picks the most common (max_features) words\n",
    "maxlen = 80  # maximum length of a sequence - truncate after this\n",
    "\n",
    "(x_train, y_train), (x_test, y_test) = imdb.load_data(num_words=max_features)\n",
    "\n",
    "x_train = pad_sequences(x_train, maxlen=maxlen)\n",
    "x_test = pad_sequences(x_test, maxlen=maxlen)"
   ]
  },
  {
   "cell_type": "code",
   "execution_count": 24,
   "metadata": {},
   "outputs": [],
   "source": [
    "rnn_hidden_dim = 5\n",
    "word_embedding_dim = 20\n",
    "model_rnn = Sequential()\n",
    "model_rnn.add(Embedding(max_features, word_embedding_dim))  #This layer takes each integer in the sequence\n",
    "model_rnn.add(SimpleRNN(rnn_hidden_dim,\n",
    "                    kernel_initializer=initializers.RandomNormal(stddev=0.001),\n",
    "                    recurrent_initializer=initializers.Identity(gain=1.0),\n",
    "                    activation='relu',\n",
    "                    input_shape=x_train.shape[1:]))\n",
    "\n",
    "model_rnn.add(Dense(1, activation='sigmoid'))"
   ]
  },
  {
   "cell_type": "code",
   "execution_count": 25,
   "metadata": {},
   "outputs": [],
   "source": [
    "rmsprop = keras.optimizers.RMSprop(lr = .0001)\n",
    "\n",
    "model_rnn.compile(loss='binary_crossentropy',\n",
    "              optimizer=rmsprop,\n",
    "              metrics=['accuracy'])"
   ]
  },
  {
   "cell_type": "code",
   "execution_count": 26,
   "metadata": {},
   "outputs": [
    {
     "name": "stdout",
     "output_type": "stream",
     "text": [
      "Epoch 1/10\n",
      "782/782 [==============================] - 36s 43ms/step - loss: 0.6584 - accuracy: 0.6067 - val_loss: 0.6002 - val_accuracy: 0.6816\n",
      "Epoch 2/10\n",
      "782/782 [==============================] - 31s 40ms/step - loss: 0.5386 - accuracy: 0.7320 - val_loss: 0.5329 - val_accuracy: 0.7194\n",
      "Epoch 3/10\n",
      "782/782 [==============================] - 37s 48ms/step - loss: 0.4805 - accuracy: 0.7718 - val_loss: 0.4887 - val_accuracy: 0.7622\n",
      "Epoch 4/10\n",
      "782/782 [==============================] - 51s 66ms/step - loss: 0.4397 - accuracy: 0.7985 - val_loss: 0.4741 - val_accuracy: 0.7818\n",
      "Epoch 5/10\n",
      "782/782 [==============================] - 52s 66ms/step - loss: 0.4083 - accuracy: 0.8187 - val_loss: 0.4418 - val_accuracy: 0.7944\n",
      "Epoch 6/10\n",
      "782/782 [==============================] - 47s 60ms/step - loss: 0.3883 - accuracy: 0.8279 - val_loss: 0.4371 - val_accuracy: 0.7916\n",
      "Epoch 7/10\n",
      "782/782 [==============================] - 28s 36ms/step - loss: 0.3735 - accuracy: 0.8360 - val_loss: 0.4179 - val_accuracy: 0.8088\n",
      "Epoch 8/10\n",
      "782/782 [==============================] - 31s 40ms/step - loss: 0.3622 - accuracy: 0.8434 - val_loss: 0.4186 - val_accuracy: 0.8077\n",
      "Epoch 9/10\n",
      "782/782 [==============================] - 28s 36ms/step - loss: 0.3532 - accuracy: 0.8485 - val_loss: 0.4127 - val_accuracy: 0.8118\n",
      "Epoch 10/10\n",
      "782/782 [==============================] - 30s 38ms/step - loss: 0.3451 - accuracy: 0.8515 - val_loss: 0.4099 - val_accuracy: 0.8130\n"
     ]
    },
    {
     "data": {
      "text/plain": [
       "<keras.callbacks.History at 0x29357a5beb0>"
      ]
     },
     "execution_count": 26,
     "metadata": {},
     "output_type": "execute_result"
    }
   ],
   "source": [
    "model_rnn.fit(x_train, y_train,\n",
    "          batch_size=batch_size,\n",
    "          epochs=10,\n",
    "          validation_data=(x_test, y_test))"
   ]
  },
  {
   "cell_type": "code",
   "execution_count": 27,
   "metadata": {},
   "outputs": [
    {
     "name": "stdout",
     "output_type": "stream",
     "text": [
      "Epoch 1/10\n",
      "782/782 [==============================] - 35s 45ms/step - loss: 0.3375 - accuracy: 0.8563 - val_loss: 0.4006 - val_accuracy: 0.8162\n",
      "Epoch 2/10\n",
      "782/782 [==============================] - 42s 53ms/step - loss: 0.3308 - accuracy: 0.8600 - val_loss: 0.4010 - val_accuracy: 0.8179\n",
      "Epoch 3/10\n",
      "782/782 [==============================] - 48s 61ms/step - loss: 0.3246 - accuracy: 0.8635 - val_loss: 0.3911 - val_accuracy: 0.8229\n",
      "Epoch 4/10\n",
      "782/782 [==============================] - 42s 54ms/step - loss: 0.3196 - accuracy: 0.8648 - val_loss: 0.3904 - val_accuracy: 0.8238\n",
      "Epoch 5/10\n",
      "782/782 [==============================] - 42s 54ms/step - loss: 0.3148 - accuracy: 0.8677 - val_loss: 0.3830 - val_accuracy: 0.8271\n",
      "Epoch 6/10\n",
      "782/782 [==============================] - 45s 57ms/step - loss: 0.3097 - accuracy: 0.8699 - val_loss: 0.3808 - val_accuracy: 0.8290\n",
      "Epoch 7/10\n",
      "782/782 [==============================] - 43s 55ms/step - loss: 0.3051 - accuracy: 0.8725 - val_loss: 0.3769 - val_accuracy: 0.8309\n",
      "Epoch 8/10\n",
      "782/782 [==============================] - 39s 50ms/step - loss: 0.3014 - accuracy: 0.8738 - val_loss: 0.3809 - val_accuracy: 0.8307\n",
      "Epoch 9/10\n",
      "782/782 [==============================] - 34s 43ms/step - loss: 0.2982 - accuracy: 0.8747 - val_loss: 0.3725 - val_accuracy: 0.8340\n",
      "Epoch 10/10\n",
      "782/782 [==============================] - 33s 43ms/step - loss: 0.2945 - accuracy: 0.8771 - val_loss: 0.3727 - val_accuracy: 0.8334\n"
     ]
    },
    {
     "data": {
      "text/plain": [
       "<keras.callbacks.History at 0x29354c73e20>"
      ]
     },
     "execution_count": 27,
     "metadata": {},
     "output_type": "execute_result"
    }
   ],
   "source": [
    "# Out of curiosity, run for 10 more epochs\n",
    "model_rnn.fit(x_train, y_train,\n",
    "          batch_size=batch_size,\n",
    "          epochs=10,\n",
    "          validation_data=(x_test, y_test))"
   ]
  },
  {
   "cell_type": "markdown",
   "metadata": {},
   "source": [
    "---\n",
    "### Machine Learning Foundation (C) 2020 IBM Corporation"
   ]
  }
 ],
 "metadata": {
  "kernelspec": {
   "display_name": "Python 3.10.5 ('venv': venv)",
   "language": "python",
   "name": "python3"
  },
  "language_info": {
   "codemirror_mode": {
    "name": "ipython",
    "version": 3
   },
   "file_extension": ".py",
   "mimetype": "text/x-python",
   "name": "python",
   "nbconvert_exporter": "python",
   "pygments_lexer": "ipython3",
   "version": "3.10.5"
  },
  "vscode": {
   "interpreter": {
    "hash": "92293bb34660a29f1a960a53b6e3064c3a168867c83c97fb05fcb559a4836e06"
   }
  }
 },
 "nbformat": 4,
 "nbformat_minor": 4
}
