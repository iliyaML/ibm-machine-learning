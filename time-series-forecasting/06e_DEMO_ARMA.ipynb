{
 "cells": [
  {
   "cell_type": "markdown",
   "metadata": {
    "run_control": {
     "marked": true
    }
   },
   "source": [
    "# Machine Learning Foundation\n",
    "\n",
    "## Course 6, Part e: ARMA DEMO"
   ]
  },
  {
   "cell_type": "markdown",
   "metadata": {
    "nbpresent": {
     "id": "3ed72d58-7719-40d6-a229-73778f445d4a"
    }
   },
   "source": [
    "# Introduction\n",
    "\n",
    "In the previous three lessons, you learned several fundamental time series concepts like stationarity and smoothing. Now we'll build upon that knowledge by digging into yet another important concept called **autocorrelation**.\n",
    "\n",
    "# Learning Outcomes\n",
    "You should walk away from this tutorial with:\n",
    "1. A practical understanding of Autoregressive (AR) models.\n",
    "1. A practical understanding of Moving Average (MA) models.\n",
    "1. A basic understanding of the Autocorrelation Function (ACF).\n",
    "1. A basic understanding of the Partial Autocorrelation Function (PACF).\n",
    "1. Insight into choosing the order *q* of MA models.\n",
    "1. Insight into choosing the order *p* of AR models.\n",
    "\n",
    "# Imports"
   ]
  },
  {
   "cell_type": "code",
   "execution_count": 1,
   "metadata": {},
   "outputs": [],
   "source": [
    "import sys, os\n",
    "import statsmodels.api as sm\n",
    "import numpy as np\n",
    "import matplotlib.pyplot as plt\n",
    "import seaborn as sns\n",
    "import pandas as pd\n",
    "# os.chdir('data')\n",
    "from colorsetup import colors, palette\n",
    "sns.set_palette(palette)"
   ]
  },
  {
   "cell_type": "markdown",
   "metadata": {
    "nbpresent": {
     "id": "150671c3-8e05-4d77-acc2-5dcf82bb601d"
    }
   },
   "source": [
    "One of the key concepts in the quantitative toolbox is that of mean reversion. This process refers to a time series that displays a tendency to revert to its historical mean value. Mathematically, such a (continuous) time series is referred to as an Ornstein-Uhlenbeck process. \n",
    "\n",
    "This is in contrast to a random walk (aka Brownian motion), which has no \"memory\" of where it has been at each particular instance of time. \n",
    "\n",
    "The mean-reverting property of a time series can be exploited in order to produce better predictions.\n",
    "\n",
    "A continuous mean-reverting time series can be represented by an Ornstein-Uhlenbeck stochastic differential equation:\n",
    "\n",
    "$dx_{t} = θ(μ−x_{t})dt + σdW_{t}$\n",
    " \n",
    "Where: \n",
    "- θ is the rate of reversion to the mean, \n",
    "- μ is the mean value of the process, \n",
    "- σ is the variance of the process and \n",
    "- $W_{t}$ is a Wiener Process or Brownian Motion.\n",
    "\n",
    "In a discrete setting the equation states that the change of the price series in the next time period is proportional to the difference between the mean price and the current price, with the addition of Gaussian noise.\n",
    "\n",
    "https://www.quantstart.com/articles/Basics-of-Statistical-Mean-Reversion-Testing"
   ]
  },
  {
   "cell_type": "markdown",
   "metadata": {
    "nbpresent": {
     "id": "81feb119-d24b-45fc-bb19-12a003a78136"
    }
   },
   "source": [
    "## Section 2: ARMA"
   ]
  },
  {
   "cell_type": "markdown",
   "metadata": {},
   "source": [
    "Enter [Autoregressive Integrated Moving Average (ARIMA)](https://en.wikipedia.org/wiki/Autoregressive_integrated_moving_average) modeling. When we have autocorrelation between outcomes and their ancestors, we will see a theme, or relationship in the outcome plot. This relationship can be modeled in its own way, allowing us to predict the future with a confidence level commensurate to the strength of the relationship and the proximity to known values (prediction weakens the further out we go).\n",
    "\n",
    "- [ARIMA in R](https://www.otexts.org/fpp/8/5)\n",
    "- [Duke ARIMA Guide](https://people.duke.edu/~rnau/411arim2.htm)\n",
    "- [Great explanation on MA in practice](http://stats.stackexchange.com/questions/164824/moving-average-ma-process-numerical-intuition)\n",
    "\n",
    "\n",
    "For second-order stationary (both mean and variance: $\\mu_t = \\mu$ and $\\sigma_t^2 = \\sigma^2$ for all $t$) data, autocovariance is expressed as a function only of the time lag $k$:\n",
    "\n",
    "$$ \\gamma_k = E[(x_t-\\mu)(x_{t+k} - \\mu)] $$\n",
    "  \n",
    "Therefore, the autocorrelation function is defined as:\n",
    "\n",
    "$$ \\rho_k = \\frac{\\gamma_k}{\\sigma^2} $$\n",
    "  \n",
    "We use the plot of these values at different lags to determine optimal ARIMA parameters. Notice how `phi` changes the process.\n",
    "\n",
    "![](https://upload.wikimedia.org/wikipedia/commons/thumb/c/ce/ArTimeSeries.svg/685px-ArTimeSeries.svg.png)\n",
    "By Tomaschwutz - Own work, CC BY 3.0, https://commons.wikimedia.org/w/index.php?curid=14740378\n",
    "\n"
   ]
  },
  {
   "cell_type": "markdown",
   "metadata": {},
   "source": [
    "## Section 3: Autoregressive (AR) Models"
   ]
  },
  {
   "cell_type": "markdown",
   "metadata": {},
   "source": [
    "**Autocorrelation:** a variable's correlation with itself at different lags.\n",
    "\n",
    "AR models regress on actual past values \n",
    "\n",
    "This is the first order or **AR(1)** formula you should know: $y_t = \\beta_0 + \\beta_1y_{t-1}+\\epsilon_t$\n",
    "\n",
    "The $\\beta$'s are just like those in linear regression and $\\epsilon$ is irreducible error.\n",
    "\n",
    "A second order or **AR(2)** would look like this: $y_t = \\beta_0 + \\beta_1y_{t-1}+\\beta_2y_{t-2}+\\epsilon_t$\n",
    "\n",
    "The pattern of adding another coefficient and another past term continues to whichever order you choose. Choosing that order called *p* is something we will discuss shortly.\n",
    "\n",
    "In the meantime, let's walk through a basic autocorrelation example. We'll generate our own data to gain insight into how ar models work"
   ]
  },
  {
   "cell_type": "code",
   "execution_count": 2,
   "metadata": {},
   "outputs": [],
   "source": [
    "# reproducibility\n",
    "np.random.seed(123)\n",
    "\n",
    "# create autocorrelated data\n",
    "time = np.arange(100)\n",
    "#Assuming 0 mean\n",
    "ar1_sample = np.zeros(100)\n",
    "\n",
    "# Set our first number to a random value with expected mean of 0 and standard deviation of 2.5\n",
    "ar1_sample[0] += np.random.normal(loc=0, scale=2.5, size=1)\n",
    "\n",
    "# Set every value thereafter as 0.7 * the last term plus a random error\n",
    "for t in time[1:]:\n",
    "    ar1_sample[t] = (0.7 * ar1_sample[t-1]) + np.random.normal(loc=0, scale=2.5, size=1)"
   ]
  },
  {
   "cell_type": "code",
   "execution_count": 3,
   "metadata": {},
   "outputs": [
    {
     "data": {
      "text/plain": [
       "<matplotlib.collections.PolyCollection at 0x2641e5fef20>"
      ]
     },
     "execution_count": 3,
     "metadata": {},
     "output_type": "execute_result"
    },
    {
     "data": {
      "image/png": "[encoded data removed]",
      "text/plain": [
       "<Figure size 432x288 with 1 Axes>"
      ]
     },
     "metadata": {
      "needs_background": "light"
     },
     "output_type": "display_data"
    }
   ],
   "source": [
    "plt.fill_between(time,ar1_sample)"
   ]
  },
  {
   "cell_type": "markdown",
   "metadata": {},
   "source": [
    "Here we create prediction for generated data to show we came up with a model that is approximately ar(1) with phi $\\approx$ 0.7"
   ]
  },
  {
   "cell_type": "code",
   "execution_count": 4,
   "metadata": {},
   "outputs": [
    {
     "data": {
      "text/plain": [
       "-2.714076508251403"
      ]
     },
     "execution_count": 4,
     "metadata": {},
     "output_type": "execute_result"
    }
   ],
   "source": [
    "ar1_sample[0]"
   ]
  },
  {
   "cell_type": "code",
   "execution_count": 6,
   "metadata": {},
   "outputs": [
    {
     "ename": "ValueError",
     "evalue": "A constant trend was included in the model specification, but the `exog` data already contains a column of constants.",
     "output_type": "error",
     "traceback": [
      "\u001b[1;31m---------------------------------------------------------------------------\u001b[0m",
      "\u001b[1;31mValueError\u001b[0m                                Traceback (most recent call last)",
      "\u001b[1;32mc:\\Users\\iliya\\Downloads\\course-1\\time-series-forecasting\\06e_DEMO_ARMA.ipynb Cell 13\u001b[0m in \u001b[0;36m<cell line: 2>\u001b[1;34m()\u001b[0m\n\u001b[0;32m      <a href='vscode-notebook-cell:/c%3A/Users/iliya/Downloads/course-1/time-series-forecasting/06e_DEMO_ARMA.ipynb#X16sZmlsZQ%3D%3D?line=0'>1</a>\u001b[0m \u001b[39m# using ARMA model from statsmodel package\u001b[39;00m\n\u001b[1;32m----> <a href='vscode-notebook-cell:/c%3A/Users/iliya/Downloads/course-1/time-series-forecasting/06e_DEMO_ARMA.ipynb#X16sZmlsZQ%3D%3D?line=1'>2</a>\u001b[0m model \u001b[39m=\u001b[39m sm\u001b[39m.\u001b[39;49mtsa\u001b[39m.\u001b[39;49marima\u001b[39m.\u001b[39;49mARIMA(ar1_sample, (\u001b[39m1\u001b[39;49m, \u001b[39m1\u001b[39;49m, \u001b[39m1\u001b[39;49m))\n",
      "File \u001b[1;32mc:\\Users\\iliya\\Downloads\\course-1\\venv\\lib\\site-packages\\statsmodels\\tsa\\arima\\model.py:153\u001b[0m, in \u001b[0;36mARIMA.__init__\u001b[1;34m(self, endog, exog, order, seasonal_order, trend, enforce_stationarity, enforce_invertibility, concentrate_scale, trend_offset, dates, freq, missing, validate_specification)\u001b[0m\n\u001b[0;32m    146\u001b[0m     trend \u001b[39m=\u001b[39m \u001b[39m'\u001b[39m\u001b[39mn\u001b[39m\u001b[39m'\u001b[39m\n\u001b[0;32m    148\u001b[0m \u001b[39m# Construct the specification\u001b[39;00m\n\u001b[0;32m    149\u001b[0m \u001b[39m# (don't pass specific values of enforce stationarity/invertibility,\u001b[39;00m\n\u001b[0;32m    150\u001b[0m \u001b[39m# because we don't actually want to restrict the estimators based on\u001b[39;00m\n\u001b[0;32m    151\u001b[0m \u001b[39m# this criteria. Instead, we'll just make sure that the parameter\u001b[39;00m\n\u001b[0;32m    152\u001b[0m \u001b[39m# estimates from those methods satisfy the criteria.)\u001b[39;00m\n\u001b[1;32m--> 153\u001b[0m \u001b[39mself\u001b[39m\u001b[39m.\u001b[39m_spec_arima \u001b[39m=\u001b[39m SARIMAXSpecification(\n\u001b[0;32m    154\u001b[0m     endog, exog\u001b[39m=\u001b[39;49mexog, order\u001b[39m=\u001b[39;49morder, seasonal_order\u001b[39m=\u001b[39;49mseasonal_order,\n\u001b[0;32m    155\u001b[0m     trend\u001b[39m=\u001b[39;49mtrend, enforce_stationarity\u001b[39m=\u001b[39;49m\u001b[39mNone\u001b[39;49;00m, enforce_invertibility\u001b[39m=\u001b[39;49m\u001b[39mNone\u001b[39;49;00m,\n\u001b[0;32m    156\u001b[0m     concentrate_scale\u001b[39m=\u001b[39;49mconcentrate_scale, trend_offset\u001b[39m=\u001b[39;49mtrend_offset,\n\u001b[0;32m    157\u001b[0m     dates\u001b[39m=\u001b[39;49mdates, freq\u001b[39m=\u001b[39;49mfreq, missing\u001b[39m=\u001b[39;49mmissing,\n\u001b[0;32m    158\u001b[0m     validate_specification\u001b[39m=\u001b[39;49mvalidate_specification)\n\u001b[0;32m    159\u001b[0m exog \u001b[39m=\u001b[39m \u001b[39mself\u001b[39m\u001b[39m.\u001b[39m_spec_arima\u001b[39m.\u001b[39m_model\u001b[39m.\u001b[39mdata\u001b[39m.\u001b[39morig_exog\n\u001b[0;32m    161\u001b[0m \u001b[39m# Raise an error if we have a constant in an integrated model\u001b[39;00m\n",
      "File \u001b[1;32mc:\\Users\\iliya\\Downloads\\course-1\\venv\\lib\\site-packages\\statsmodels\\tsa\\arima\\specification.py:395\u001b[0m, in \u001b[0;36mSARIMAXSpecification.__init__\u001b[1;34m(self, endog, exog, order, seasonal_order, ar_order, diff, ma_order, seasonal_ar_order, seasonal_diff, seasonal_ma_order, seasonal_periods, trend, enforce_stationarity, enforce_invertibility, concentrate_scale, trend_offset, dates, freq, missing, validate_specification)\u001b[0m\n\u001b[0;32m    393\u001b[0m     \u001b[39m# If we already have a constant column, raise an error\u001b[39;00m\n\u001b[0;32m    394\u001b[0m     \u001b[39mif\u001b[39;00m np\u001b[39m.\u001b[39many(col_const):\n\u001b[1;32m--> 395\u001b[0m         \u001b[39mraise\u001b[39;00m \u001b[39mValueError\u001b[39;00m(\u001b[39m'\u001b[39m\u001b[39mA constant trend was included in the model\u001b[39m\u001b[39m'\u001b[39m\n\u001b[0;32m    396\u001b[0m                          \u001b[39m'\u001b[39m\u001b[39m specification, but the `exog` data already\u001b[39m\u001b[39m'\u001b[39m\n\u001b[0;32m    397\u001b[0m                          \u001b[39m'\u001b[39m\u001b[39m contains a column of constants.\u001b[39m\u001b[39m'\u001b[39m)\n\u001b[0;32m    399\u001b[0m \u001b[39m# This contains the included exponents of the trend polynomial,\u001b[39;00m\n\u001b[0;32m    400\u001b[0m \u001b[39m# where e.g. the constant term has exponent 0, a linear trend has\u001b[39;00m\n\u001b[0;32m    401\u001b[0m \u001b[39m# exponent 1, etc.\u001b[39;00m\n\u001b[0;32m    402\u001b[0m \u001b[39mself\u001b[39m\u001b[39m.\u001b[39mtrend_terms \u001b[39m=\u001b[39m np\u001b[39m.\u001b[39mwhere(\u001b[39mself\u001b[39m\u001b[39m.\u001b[39mtrend_poly \u001b[39m==\u001b[39m \u001b[39m1\u001b[39m)[\u001b[39m0\u001b[39m]\n",
      "\u001b[1;31mValueError\u001b[0m: A constant trend was included in the model specification, but the `exog` data already contains a column of constants."
     ]
    }
   ],
   "source": [
    "# using ARMA model from statsmodel package\n",
    "model = sm.tsa.arima.ARIMA(ar1_sample, (1, 1, 1))\n",
    "# model.params"
   ]
  },
  {
   "cell_type": "code",
   "execution_count": null,
   "metadata": {},
   "outputs": [],
   "source": [
    "# create autocorrelated data\n",
    "np.random.seed(112)\n",
    "# Mean is again 0\n",
    "ar2_sample = np.zeros(100)\n",
    "# Set first two values to random values with expected mean of 0 and standard deviation of 2.5\n",
    "ar2_sample[0:2] += np.random.normal(loc=0, scale=2.5, size=2)\n",
    "# Set future values as 0.3 times the prior value and 0.3 times value two prior\n",
    "for t in time[2:]:\n",
    "    ar2_sample[t] = (0.3 * ar2_sample[t-1]) + (0.3 * ar2_sample[t-2]) + np.random.normal(loc=0, scale=2.5, size=1)"
   ]
  },
  {
   "cell_type": "code",
   "execution_count": null,
   "metadata": {},
   "outputs": [],
   "source": [
    "plt.fill_between(time,ar2_sample)"
   ]
  },
  {
   "cell_type": "code",
   "execution_count": null,
   "metadata": {},
   "outputs": [],
   "source": [
    "# Again running statsmodel ARMA to predict parameters for generated data\n",
    "model = sm.tsa.ARMA(ar2_sample, (2, 0)).fit(trend='nc', disp=0)\n",
    "model.params"
   ]
  },
  {
   "cell_type": "code",
   "execution_count": null,
   "metadata": {},
   "outputs": [],
   "source": [
    "# Below is function to help in generating different series\n",
    "from statsmodels.tsa.arima_process import arma_generate_sample\n",
    "\n",
    "arparams = np.array([0.3,0.3])\n",
    "maparams = np.array([0])\n",
    "ar = np.r_[1, -arparams] # add zero-lag and negate, np.r_ is simply making it one array\n",
    "ma = np.r_[1, maparams] # add zero-lag\n",
    "y = arma_generate_sample(ar, ma, 100)"
   ]
  },
  {
   "cell_type": "code",
   "execution_count": null,
   "metadata": {},
   "outputs": [],
   "source": [
    "plt.fill_between(time,y)"
   ]
  },
  {
   "cell_type": "code",
   "execution_count": null,
   "metadata": {},
   "outputs": [],
   "source": [
    "# Again running statsmodel ARMA to predict parameters for generated data\n",
    "model = sm.tsa.ARMA(y, (2, 0)).fit(trend='nc', disp=0)\n",
    "model.params"
   ]
  },
  {
   "cell_type": "markdown",
   "metadata": {},
   "source": [
    "Notice that outcomes of same model can be very different given random nature of model and fact that this is emant to predict mean reversion"
   ]
  },
  {
   "cell_type": "markdown",
   "metadata": {},
   "source": [
    "## Section 4: Moving Average(MA) models\n",
    "\n",
    "\n",
    "### MA Model Specifics\n",
    "A MA model is defined by this equation: $y_t=c+e_t+θ_1e_{t−1}+θ_2e_{t−2}+⋯+θ_qe_{t−q}$ where $e_t$ is white noise. The value $c$ is a constant value and the $\\theta$'s are coefficients, not unlike those found in linear regression.\n",
    "\n",
    "### MA Models != Moving Average Smoothing\n",
    "An important distinction is that a moving average model is not the same thing as moving average smoothing. What we did in previous lessons was smoothing. It has important properties already discussed. However, we turn our attention to moving average models, which are a completely different beast.\n",
    "\n",
    "Moving average smoothing is useful for estimating trend and seasonality of past data. MA models, on the other hand, are a useful forecasting model that regresses on past forecast errors in order to forecast future values. It is easy to lump the two techniques together, but they serve very different functions. \n",
    "Thus, a moving-average model is conceptually a linear regression of the current value of the series against current and previous (unobserved) white noise error terms or random shocks. The random shocks at each point are assumed to be mutually independent and to come from the same distribution, typically a normal distribution, with location at zero and constant scale.\n",
    "\n",
    "### Interpretation\n",
    "The moving-average model is essentially a finite impulse response filter applied to white noise, with some additional interpretation placed on it. \n",
    "\n",
    "The role of the random shocks in the MA model differs from their role in the autoregressive (AR) model in two ways.\n",
    "- First, they are propagated to future values of the time series directly: for example, \n",
    "$\\varepsilon _{t-1}$ appears directly on the right side of the equation for $X_{t}$. In contrast, in an AR model $\\varepsilon _{t-1}$ does not appear on the right side of the $X_{t}$ equation, but it does appear on the right side of the $X_{t-1}$ equation, and $X_{t-1}$ appears on the right side of the $X_{t}$ equation, giving only an indirect effect of $\\varepsilon _{t-1}$ on $X_{t}$. \n",
    "- Second, in the MA model a shock affects X values only for the current period and q periods into the future; in contrast, in the AR model a shock affects X values infinitely far into the future, because $\\varepsilon _{t}$ affects $X_{t}$, which affects $X_{t+1}$, etc.\n",
    "\n",
    "https://en.wikipedia.org/wiki/Moving-average_model\n",
    "\n",
    "We'll generate our own data so we know the generative process for an MA series. "
   ]
  },
  {
   "cell_type": "code",
   "execution_count": null,
   "metadata": {},
   "outputs": [],
   "source": [
    "# reproducibility\n",
    "np.random.seed(12)\n",
    "\n",
    "# create autocorrelated data\n",
    "time = np.arange(100)\n",
    "#mean 0\n",
    "ma1_sample = np.zeros(100)\n",
    "#create vector of random normally distributed errors\n",
    "error = np.random.normal(loc=0, scale=2.5, size=100)\n",
    "# set first value to one of the random errors\n",
    "ma1_sample[0] += error[0]\n",
    "\n",
    "#set future values to 0.4 times error of prior value plus the current error term\n",
    "for t in time[1:]:\n",
    "    ma1_sample[t] = (0.4 * error[t-1]) + error[t]"
   ]
  },
  {
   "cell_type": "code",
   "execution_count": null,
   "metadata": {},
   "outputs": [],
   "source": [
    "plt.fill_between(time,ma1_sample)"
   ]
  },
  {
   "cell_type": "code",
   "execution_count": null,
   "metadata": {},
   "outputs": [],
   "source": [
    "# find model params for generated sample \n",
    "model = sm.tsa.ARMA(ma1_sample, (0, 1)).fit(trend='nc', disp=0)\n",
    "model.params"
   ]
  },
  {
   "cell_type": "code",
   "execution_count": null,
   "metadata": {},
   "outputs": [],
   "source": [
    "# reproducibility\n",
    "np.random.seed(123)\n",
    "\n",
    "# create autocorrelated data\n",
    "time = np.arange(100)\n",
    "ma2_sample = np.zeros(100)\n",
    "error = np.random.normal(loc=0, scale=2.5, size=100)\n",
    "ma2_sample[0:2] = error[0:2]\n",
    "#regress future values on linear functino of prior two errors plus current error\n",
    "for t in time[2:]:\n",
    "    ma2_sample[t] = (0.4 * error[t-1]) + (-0.4 * error[t-2]) + error[t]"
   ]
  },
  {
   "cell_type": "code",
   "execution_count": null,
   "metadata": {},
   "outputs": [],
   "source": [
    "plt.fill_between(time,ma2_sample)"
   ]
  },
  {
   "cell_type": "code",
   "execution_count": null,
   "metadata": {},
   "outputs": [],
   "source": [
    "# find model params for generated sample \n",
    "model = sm.tsa.ARMA(ma2_sample, (0, 2)).fit(trend='nc', disp=0)\n",
    "model.params"
   ]
  },
  {
   "cell_type": "code",
   "execution_count": null,
   "metadata": {},
   "outputs": [],
   "source": [
    "# Below is function to help in generating different series\n",
    "np.random.seed(123)\n",
    "arparams = np.array([0])\n",
    "maparams = np.array([0.4,-0.4])\n",
    "ar = np.r_[1, -arparams] # add zero-lag and negate, np.r_ is simply making it one array\n",
    "ma = np.r_[1, maparams] # add zero-lag\n",
    "y = arma_generate_sample(ar, ma, 100)"
   ]
  },
  {
   "cell_type": "code",
   "execution_count": null,
   "metadata": {},
   "outputs": [],
   "source": [
    "# Just to show we came up with a model that is approximately ar(1) with phi = 0.7\n",
    "# We will get back to modeling\n",
    "\n",
    "model = sm.tsa.ARMA(y, (0, 2)).fit(trend='nc', disp=0)\n",
    "model.params"
   ]
  },
  {
   "cell_type": "markdown",
   "metadata": {
    "nbpresent": {
     "id": "a8fc8ecc-2519-407a-973e-28d33ce53b59"
    }
   },
   "source": [
    "Some things to note:\n",
    "1. AR models propagate shocks infinitely\n",
    "1. If a process depends on previous values of itself then it is an AR process. If it depends on previous errors than it is an MA process.\n",
    "1. AR processes will exhibit exponential decay in ACF and a cut-off in PACF\n",
    "\n",
    "### Moving Average Models (This is NOT a Simple/Weighted/Exponential Moving Average)\n",
    "\n",
    "Some things to note:\n",
    "1. MA models do not propagate shocks infinitely; they die after `q` lags\n",
    "1. If a process depends on previous values of itself, then it is an AR process. If it depends on previous errors, then it is an MA process.\n",
    "1. MA processes will exhibit exponential decay in PACF and a cut-off in ACF"
   ]
  },
  {
   "cell_type": "markdown",
   "metadata": {},
   "source": [
    "## Section 5: The Autocorrelation Function (ACF)\n",
    "There's a crucial question we need to answer: How do you choose the orders (p and q) for a time series\n",
    "\n",
    "In order to answer that question, we need to understand the Autocorrelation Function (ACF). \n",
    "\n",
    "Let's start by showing an example ACF plot for our different simulated series."
   ]
  },
  {
   "cell_type": "code",
   "execution_count": null,
   "metadata": {},
   "outputs": [],
   "source": [
    "fig = sm.tsa.graphics.plot_acf(ar1_sample, lags=range(1,30), alpha=0.05,title = 'ar1 ACF')\n",
    "fig = sm.tsa.graphics.plot_acf(ma1_sample, lags=range(1,15), alpha=0.05,title = 'ma1 ACF')"
   ]
  },
  {
   "cell_type": "markdown",
   "metadata": {},
   "source": [
    "An explanation is in order. First, the blue region represents a confidence interval. Alpha in this case was set to 0.05 (95% confidence interval). This can be set to whatever float value you require. See the **plot_acf** function for details. \n",
    "\n",
    "The stems represent lagged correlation values. In other words, a lag of 1 will show correlation with the prior endogenous value. A lag of 2 shows correlation to the value 2 prior and so on. Remember that we're regressing on past forecast values; that's the correlation we're inspecting here. \n",
    "\n",
    "Correlations outside of the confidence interval are statistically significant whereas the others are not. \n",
    "\n",
    "Note that if lag 1 shows strong autocorrelation, lag 2 will show strong autocorrelation as well since lag 1 is correlated with lag 2 and lag 2 with lag 3. That is why you see the ar1 model having the slowly decaying correlation.\n",
    "\n",
    "If we think about the functions, we note that the autocorrelation will propogate for AR(1) models:\n",
    "\n",
    "- $y_t = \\beta_0 + \\beta_1y_{t-1}+\\epsilon_t$\n",
    "- $y_{t-1} = \\beta_0 + \\beta_1y_{t-2}+\\epsilon_{t-1}$\n",
    "- $y_{t} = \\beta_0 + \\beta_0 + \\beta_1y_{t-2}+\\epsilon_{t-1} +\\epsilon_{t}$\n",
    "\n",
    "The past errors will propogate into the future leading to the slowly decaying plot we just mentioned\n",
    "\n",
    "For MA(1) models: \n",
    "\n",
    "- $y_t = y_t=\\beta_0+θ_1e_{t-1}+\\epsilon_t$\n",
    "\n",
    "Only the prior error has an effect on future errors.\n",
    "\n",
    "So an easy way to identify an ar(1) models or ma(1) model is to look to see if the correlation from one effects the next."
   ]
  },
  {
   "cell_type": "code",
   "execution_count": null,
   "metadata": {},
   "outputs": [],
   "source": [
    "fig = sm.tsa.graphics.plot_acf(ar2_sample, lags=range(1,15), alpha=0.05,title = 'ar2 ACF')\n",
    "fig = sm.tsa.graphics.plot_acf(ma2_sample, lags=range(1,15), alpha=0.05,title = 'ma2 ACF')"
   ]
  },
  {
   "cell_type": "markdown",
   "metadata": {},
   "source": [
    "Similar story should hold up for ACF for AR(2) and MA(2). Ideally, the ma(1) would be significant, but with simulated data it will not always be perfect\n"
   ]
  },
  {
   "cell_type": "markdown",
   "metadata": {},
   "source": [
    "## Section 6: The Partial Autocorrelation Function (PACF)"
   ]
  },
  {
   "cell_type": "markdown",
   "metadata": {},
   "source": [
    "Choosing the order *p* of the AR model is important. Thankfully, there's a useful plot called the Partial Autocorrelation Function plot that can help us with that task. \n",
    "\n",
    "Let's look at an example."
   ]
  },
  {
   "cell_type": "code",
   "execution_count": null,
   "metadata": {},
   "outputs": [],
   "source": [
    "from statsmodels.graphics.tsaplots import plot_pacf\n",
    "\n",
    "fig = sm.tsa.graphics.plot_pacf(ar1_sample, lags=range(1,15), alpha=0.05, title = 'pacf ar1')\n",
    "fig = sm.tsa.graphics.plot_pacf(ma1_sample, lags=range(1,15), alpha=0.05, title = 'pacf ma1')"
   ]
  },
  {
   "cell_type": "markdown",
   "metadata": {},
   "source": [
    "The *partial autocorrelation* at lag k is the correlation that results after removing the effect of any correlations due to the terms at shorter lags. \n",
    "\n",
    "This makes choosing AR(1) models much easier.\n",
    "\n",
    "First off, the blue region once again is the 95% confidence interval. \n",
    "\n",
    "The ACF is a way to measure the linear relationship between a current observation and observations at previous time periods. It turns out that often we are really only interested in the relationship between the current observation and a past value determined by a lag value. We often don't care about the relationship of values between the two, so we transform them to obtain the PACF. \n",
    "\n",
    "The PACF is a useful tool for identifying the order of the AR model.\n",
    "\n",
    "For MA(1) model we should see that it slowly decays towards 0."
   ]
  },
  {
   "cell_type": "code",
   "execution_count": null,
   "metadata": {},
   "outputs": [],
   "source": [
    "fig = sm.tsa.graphics.plot_pacf(ar2_sample, lags=range(1,15), alpha=0.05, title = 'pacf ar2')\n",
    "fig = sm.tsa.graphics.plot_pacf(ma2_sample, lags=range(1,15), alpha=0.05, title = 'pacf ma2')"
   ]
  },
  {
   "cell_type": "markdown",
   "metadata": {},
   "source": [
    "Similar story should hold up for PACF for AR(2).\n"
   ]
  },
  {
   "cell_type": "markdown",
   "metadata": {},
   "source": [
    "## Exercise\n",
    "You have been provided two datasets: \n",
    "1. **auto_1.csv**\n",
    "2. **auto_2.csv**\n",
    "\n",
    "Your task is to leverage what you've learned in this and previous courses. \n",
    "\n",
    "More specifically, you will do the following:\n",
    "1. Read in **auto_1.csv** and **auto_2.csv**.\n",
    "2. Create a time variable called **mytime** that starts at 0 and is as long as both datasets.\n",
    "3. Generate fill between plots of auto_1 and auto_2.\n",
    "4. Determine the order of p and q.\n",
    "5. Fit model given chosen p and q. Feel free to play with fit of other models"
   ]
  },
  {
   "cell_type": "markdown",
   "metadata": {},
   "source": [
    "#### 1. Get Data"
   ]
  },
  {
   "cell_type": "code",
   "execution_count": null,
   "metadata": {},
   "outputs": [],
   "source": [
    "# get data\n",
    "path_to_file = \"./\"\n",
    "auto_1 = pd.read_csv(path_to_file + \"auto_1.csv\")\n",
    "auto_2 = pd.read_csv(path_to_file + \"auto_2.csv\")"
   ]
  },
  {
   "cell_type": "markdown",
   "metadata": {},
   "source": [
    "#### 2. Create mytime "
   ]
  },
  {
   "cell_type": "code",
   "execution_count": null,
   "metadata": {},
   "outputs": [],
   "source": [
    "# time component\n",
    "mytime = np.arange(len(auto_1))"
   ]
  },
  {
   "cell_type": "code",
   "execution_count": null,
   "metadata": {},
   "outputs": [],
   "source": [
    "auto_1.values.shape"
   ]
  },
  {
   "cell_type": "code",
   "execution_count": null,
   "metadata": {},
   "outputs": [],
   "source": [
    "auto_1 = auto_1.values.reshape(-1)\n",
    "auto_2 = auto_2.values.reshape(-1)"
   ]
  },
  {
   "cell_type": "markdown",
   "metadata": {},
   "source": [
    "#### 3. Fill between plots"
   ]
  },
  {
   "cell_type": "code",
   "execution_count": null,
   "metadata": {},
   "outputs": [],
   "source": [
    "plt.fill_between(mytime,auto_1,auto_2,alpha = 0.2)"
   ]
  },
  {
   "cell_type": "code",
   "execution_count": null,
   "metadata": {},
   "outputs": [],
   "source": [
    "plt.fill_between(mytime,auto_2)"
   ]
  },
  {
   "cell_type": "markdown",
   "metadata": {},
   "source": [
    "#### 4. Determine Order (p & q) "
   ]
  },
  {
   "cell_type": "code",
   "execution_count": null,
   "metadata": {},
   "outputs": [],
   "source": [
    "fig1 = sm.tsa.graphics.plot_acf(auto_1, lags=range(1,15), alpha=0.05)"
   ]
  },
  {
   "cell_type": "code",
   "execution_count": null,
   "metadata": {},
   "outputs": [],
   "source": [
    "fig2 = sm.tsa.graphics.plot_pacf(auto_2, lags=range(1,15), alpha=0.05)"
   ]
  },
  {
   "cell_type": "markdown",
   "metadata": {},
   "source": [
    "For auto_1, order p is clearly 2.\n",
    "\n",
    "For auto_2, looks like order of q is 1. "
   ]
  },
  {
   "cell_type": "markdown",
   "metadata": {},
   "source": [
    "#### 5. Estimate parameters of model with given choice of p and q"
   ]
  },
  {
   "cell_type": "code",
   "execution_count": null,
   "metadata": {},
   "outputs": [],
   "source": [
    "model = sm.tsa.ARMA(auto_1, (2, 0)).fit(trend='nc', disp=0)\n",
    "model.params"
   ]
  },
  {
   "cell_type": "code",
   "execution_count": null,
   "metadata": {},
   "outputs": [],
   "source": [
    "model = sm.tsa.ARMA(auto_2, (0, 1)).fit(trend='nc', disp=0)\n",
    "model.params"
   ]
  },
  {
   "cell_type": "markdown",
   "metadata": {},
   "source": [
    "---"
   ]
  },
  {
   "cell_type": "markdown",
   "metadata": {},
   "source": [
    "# Summary\n",
    "\n",
    "In this notebook, we have covered: \n",
    "1. Moving Average (MA) models.\n",
    "2. The Autocorrelation Function (ACF).\n",
    "3. Choosing order *q*.\n",
    "4. Autoregressive (AR) models.\n",
    "5. The Partial Autocorrelation Function (PACF).\n",
    "6. Choosing order *p*. "
   ]
  },
  {
   "cell_type": "markdown",
   "metadata": {},
   "source": [
    "---\n",
    "### Machine Learning Foundation (C) 2020 IBM Corporation"
   ]
  }
 ],
 "metadata": {
  "anaconda-cloud": {},
  "kernelspec": {
   "display_name": "Python 3.10.5 ('venv': venv)",
   "language": "python",
   "name": "python3"
  },
  "language_info": {
   "codemirror_mode": {
    "name": "ipython",
    "version": 3
   },
   "file_extension": ".py",
   "mimetype": "text/x-python",
   "name": "python",
   "nbconvert_exporter": "python",
   "pygments_lexer": "ipython3",
   "version": "3.10.5"
  },
  "toc": {
   "colors": {
    "hover_highlight": "#DAA520",
    "navigate_num": "#000000",
    "navigate_text": "#333333",
    "running_highlight": "#FF0000",
    "selected_highlight": "#FFD700",
    "sidebar_border": "#EEEEEE",
    "wrapper_background": "#FFFFFF"
   },
   "moveMenuLeft": false,
   "nav_menu": {
    "height": "311px",
    "width": "412px"
   },
   "navigate_menu": true,
   "number_sections": false,
   "sideBar": false,
   "threshold": "3",
   "toc_cell": false,
   "toc_position": {
    "height": "22px",
    "left": "1105px",
    "right": "20px",
    "top": "-1px",
    "width": "22px"
   },
   "toc_section_display": "block",
   "toc_window_display": true,
   "widenNotebook": false
  },
  "vscode": {
   "interpreter": {
    "hash": "92293bb34660a29f1a960a53b6e3064c3a168867c83c97fb05fcb559a4836e06"
   }
  }
 },
 "nbformat": 4,
 "nbformat_minor": 4
}
